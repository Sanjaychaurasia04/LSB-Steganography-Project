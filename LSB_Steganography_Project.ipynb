{
  "nbformat": 4,
  "nbformat_minor": 0,
  "metadata": {
    "colab": {
      "provenance": [],
      "gpuType": "T4",
      "mount_file_id": "1t6oy2Ajik1UyN6p0SGnk3MvXBj9ZZQEG",
      "authorship_tag": "ABX9TyO8mt25QUIfOZwbGwlwnnUr",
      "include_colab_link": true
    },
    "kernelspec": {
      "name": "python3",
      "display_name": "Python 3"
    },
    "language_info": {
      "name": "python"
    },
    "accelerator": "GPU"
  },
  "cells": [
    {
      "cell_type": "markdown",
      "metadata": {
        "id": "view-in-github",
        "colab_type": "text"
      },
      "source": [
        "<a href=\"https://colab.research.google.com/github/Sanjaychaurasia04/LSB-Steganography-Project/blob/main/LSB_Steganography_Project.ipynb\" target=\"_parent\"><img src=\"https://colab.research.google.com/assets/colab-badge.svg\" alt=\"Open In Colab\"/></a>"
      ]
    },
    {
      "cell_type": "markdown",
      "source": [
        "# **Complete LSB Steganography Project in Google Colab**"
      ],
      "metadata": {
        "id": "BMAoigOX9KjU"
      }
    },
    {
      "cell_type": "markdown",
      "source": [
        "# Project Overview\n",
        "This project demonstrates Least Significant Bit (LSB) Steganography, a technique used to hide secret messages inside digital images without visibly altering the image. LSB steganography is widely used in cybersecurity for covert communication, watermarking, and data protection.\n",
        "\n",
        "# Key Concepts\n",
        "**Steganography** – The practice of concealing a message within another medium (e.g., hiding text inside an image).\n",
        "\n",
        "**LSB** (Least Significant Bit) – The rightmost bit in a binary number, which has the least impact on the overall value. Modifying LSBs allows us to hide data with minimal visual distortion.\n",
        "\n",
        "**Pixel Manipulation** – Digital images consist of pixels, each containing RGB (Red, Green, Blue) values. By altering the LSBs of these values, we can embed hidden messages.\n",
        "\n"
      ],
      "metadata": {
        "id": "qWZLUji2-VBl"
      }
    },
    {
      "cell_type": "markdown",
      "source": [
        "# How LSB Steganography Works\n",
        "**Message Encoding**\n",
        "\n",
        "Convert the secret message into binary.\n",
        "\n",
        "Replace the LSBs of the image's pixel values with the binary message bits.\n",
        "\n",
        "Save the modified image (preferably in PNG format to avoid lossy compression).\n",
        "\n",
        "**Message Extraction**\n",
        "\n",
        "Read the encoded image.\n",
        "\n",
        "Extract the LSBs from each pixel.\n",
        "\n",
        "Reconstruct the hidden message from the collected bits."
      ],
      "metadata": {
        "id": "7vlUEBLI-mtW"
      }
    },
    {
      "cell_type": "markdown",
      "source": [
        "# Features of This Implementation\n",
        "✅ **Supports RGB Images** – Hides data in all three color channels (Red, Green, Blue) for maximum capacity.\n",
        "\n",
        "✅ **Delimiter-Based Extraction** – Uses \"=====\" to mark the end of the hidden message.\n",
        "\n",
        "✅ **Error Handling** – Checks for file existence, valid formats, and message size limits.\n",
        "\n",
        "✅ **Visual Comparison** – Shows differences between original and encoded images.\n",
        "\n",
        "✅ **Google Colab Integration** – Works seamlessly with files stored in Google Drive.\n",
        "\n"
      ],
      "metadata": {
        "id": "Q5bmkt-t-5DQ"
      }
    },
    {
      "cell_type": "markdown",
      "source": [
        "# Applications in Cybersecurity\n",
        "**Covert Communication** – Securely transmit hidden messages without raising suspicion.\n",
        "\n",
        "**Digital Watermarking** – Embed copyright information in images.\n",
        "\n",
        "**Anti-Tampering** – Detect unauthorized modifications by verifying hidden data.\n",
        "\n",
        "**Data Exfiltration Prevention** – Security teams can detect LSB-based malware hiding data in images."
      ],
      "metadata": {
        "id": "O7Ylwh6W_Ma7"
      }
    },
    {
      "cell_type": "code",
      "source": [
        "# Mount Google Drive\n",
        "from google.colab import drive\n",
        "drive.mount('/content/drive')"
      ],
      "metadata": {
        "colab": {
          "base_uri": "https://localhost:8080/"
        },
        "id": "Vfobz4qS33iq",
        "outputId": "5ce75a6f-bc6c-4837-aa6c-c9ad9b7d93fb"
      },
      "execution_count": 33,
      "outputs": [
        {
          "output_type": "stream",
          "name": "stdout",
          "text": [
            "Drive already mounted at /content/drive; to attempt to forcibly remount, call drive.mount(\"/content/drive\", force_remount=True).\n"
          ]
        }
      ]
    },
    {
      "cell_type": "code",
      "source": [
        "import cv2\n",
        "import numpy as np\n",
        "from matplotlib import pyplot as plt\n",
        "import os\n",
        "import time"
      ],
      "metadata": {
        "id": "xF8TGNY433gI"
      },
      "execution_count": 34,
      "outputs": []
    },
    {
      "cell_type": "markdown",
      "source": [
        "# Helper Functions\n",
        "\n"
      ],
      "metadata": {
        "id": "4glk3Av89dAV"
      }
    },
    {
      "cell_type": "code",
      "source": [
        "def message_to_binary(message):\n",
        "    \"\"\"Convert a string message to binary\"\"\"\n",
        "    if isinstance(message, str):\n",
        "        return ''.join([format(ord(i), \"08b\") for i in message])\n",
        "    elif isinstance(message, (bytes, np.ndarray)):\n",
        "        return [format(i, \"08b\") for i in message]\n",
        "    elif isinstance(message, (int, np.uint8)):\n",
        "        return format(message, \"08b\")\n",
        "    else:\n",
        "        raise TypeError(\"Input type not supported\")"
      ],
      "metadata": {
        "id": "SEqT_g-X33c2"
      },
      "execution_count": 35,
      "outputs": []
    },
    {
      "cell_type": "code",
      "source": [
        "def verify_image(path):\n",
        "    \"\"\"Verify that an image exists and can be read\"\"\"\n",
        "    if not os.path.exists(path):\n",
        "        raise FileNotFoundError(f\"File not found: {path}\")\n",
        "\n",
        "    img = cv2.imread(path)\n",
        "    if img is None:\n",
        "        raise ValueError(f\"Could not read image from {path}. Supported formats: JPG, PNG, BMP, etc.\")\n",
        "    return img"
      ],
      "metadata": {
        "id": "V-DA7p0a5UqJ"
      },
      "execution_count": 36,
      "outputs": []
    },
    {
      "cell_type": "code",
      "source": [
        "def hide_message(image_path, secret_message, output_path):\n",
        "    \"\"\"Hide a secret message in an image using LSB steganography\"\"\"\n",
        "    # Verify and read the image\n",
        "    image = verify_image(image_path)\n",
        "\n",
        "    # Calculate maximum bytes that can be encoded\n",
        "    n_bytes = image.shape[0] * image.shape[1] * 3 // 8\n",
        "    print(f\"[*] Maximum bytes to encode: {n_bytes}\")\n",
        "\n",
        "    # Check if the message is too large\n",
        "    if len(secret_message) > n_bytes:\n",
        "        raise ValueError(f\"[!] Need bigger image or smaller message. Message length: {len(secret_message)} bytes\")\n",
        "\n",
        "    # Add a delimiter to the message\n",
        "    secret_message += \"=====\"\n",
        "\n",
        "    data_index = 0\n",
        "    # Convert message to binary\n",
        "    binary_secret_msg = message_to_binary(secret_message)\n",
        "    data_len = len(binary_secret_msg)\n",
        "\n",
        "    # Make a copy of the image to modify\n",
        "    encoded_image = image.copy()\n",
        "\n",
        "    # Iterate through each pixel in the image\n",
        "    for row in encoded_image:\n",
        "        for pixel in row:\n",
        "            # Convert RGB values to binary\n",
        "            r, g, b = message_to_binary(pixel)\n",
        "\n",
        "            # Modify the least significant bit only if there is still data to store\n",
        "            if data_index < data_len:\n",
        "                # Red channel\n",
        "                pixel[0] = int(r[:-1] + binary_secret_msg[data_index], 2)\n",
        "                data_index += 1\n",
        "            if data_index < data_len:\n",
        "                # Green channel\n",
        "                pixel[1] = int(g[:-1] + binary_secret_msg[data_index], 2)\n",
        "                data_index += 1\n",
        "            if data_index < data_len:\n",
        "                # Blue channel\n",
        "                pixel[2] = int(b[:-1] + binary_secret_msg[data_index], 2)\n",
        "                data_index += 1\n",
        "            # If data is encoded, break out of the loop\n",
        "            if data_index >= data_len:\n",
        "                break\n",
        "\n",
        "    # Save the output image (use PNG for lossless compression)\n",
        "    cv2.imwrite(output_path, encoded_image)\n",
        "    print(f\"[+] Image encoded successfully and saved to {output_path}\")\n",
        "    return encoded_image"
      ],
      "metadata": {
        "id": "i2HYsItY33ZP"
      },
      "execution_count": 37,
      "outputs": []
    },
    {
      "cell_type": "code",
      "source": [
        "def extract_message(image_path):\n",
        "    \"\"\"Extract a hidden message from an image\"\"\"\n",
        "    print(\"[+] Extracting message...\")\n",
        "\n",
        "    # Verify and read the image\n",
        "    image = verify_image(image_path)\n",
        "\n",
        "    binary_data = \"\"\n",
        "\n",
        "    # Iterate through each pixel in the image\n",
        "    for row in image:\n",
        "        for pixel in row:\n",
        "            r, g, b = message_to_binary(pixel)\n",
        "            binary_data += r[-1]  # LSB of Red channel\n",
        "            binary_data += g[-1]  # LSB of Green channel\n",
        "            binary_data += b[-1]  # LSB of Blue channel\n",
        "\n",
        "    # Split by 8-bits\n",
        "    all_bytes = [binary_data[i:i+8] for i in range(0, len(binary_data), 8)]\n",
        "\n",
        "    # Convert from bits to characters\n",
        "    decoded_message = \"\"\n",
        "    for byte in all_bytes:\n",
        "        decoded_message += chr(int(byte, 2))\n",
        "        # Check for delimiter\n",
        "        if decoded_message[-5:] == \"=====\":\n",
        "            break\n",
        "\n",
        "    return decoded_message[:-5]"
      ],
      "metadata": {
        "id": "nkpqj_1L33VO"
      },
      "execution_count": 38,
      "outputs": []
    },
    {
      "cell_type": "markdown",
      "source": [
        "# Main Execution"
      ],
      "metadata": {
        "id": "R_OjDS3j9s3U"
      }
    },
    {
      "cell_type": "code",
      "source": [
        "\n",
        "\n",
        "\n",
        "\n",
        "def message_to_binary(message):\n",
        "    \"\"\"Convert a string message to binary\"\"\"\n",
        "    if isinstance(message, str):\n",
        "        return ''.join([format(ord(i), \"08b\") for i in message])\n",
        "    elif isinstance(message, (bytes, np.ndarray)):\n",
        "        return [format(i, \"08b\") for i in message]\n",
        "    elif isinstance(message, (int, np.uint8)):\n",
        "        return format(message, \"08b\")\n",
        "    else:\n",
        "        raise TypeError(\"Input type not supported\")\n",
        "\n",
        "def verify_image(path):\n",
        "    \"\"\"Verify that an image exists and can be read\"\"\"\n",
        "    if not os.path.exists(path):\n",
        "        raise FileNotFoundError(f\"File not found: {path}\")\n",
        "\n",
        "    img = cv2.imread(path)\n",
        "    if img is None:\n",
        "        raise ValueError(f\"Could not read image from {path}. Supported formats: JPG, PNG, BMP, etc.\")\n",
        "    return img\n",
        "\n",
        "def hide_message(image_path, secret_message, output_path):\n",
        "    \"\"\"Hide a secret message in an image using LSB steganography\"\"\"\n",
        "    # Verify and read the image\n",
        "    image = verify_image(image_path)\n",
        "\n",
        "    # Calculate maximum bytes that can be encoded\n",
        "    n_bytes = image.shape[0] * image.shape[1] * 3 // 8\n",
        "    print(f\"[*] Maximum bytes to encode: {n_bytes}\")\n",
        "\n",
        "    # Check if the message is too large\n",
        "    if len(secret_message) > n_bytes:\n",
        "        raise ValueError(f\"[!] Need bigger image or smaller message. Message length: {len(secret_message)} bytes\")\n",
        "\n",
        "    # Add a delimiter to the message\n",
        "    secret_message += \"=====\"\n",
        "\n",
        "    data_index = 0\n",
        "    # Convert message to binary\n",
        "    binary_secret_msg = message_to_binary(secret_message)\n",
        "    data_len = len(binary_secret_msg)\n",
        "\n",
        "    # Make a copy of the image to modify\n",
        "    encoded_image = image.copy()\n",
        "\n",
        "    # Iterate through each pixel in the image\n",
        "    for row in encoded_image:\n",
        "        for pixel in row:\n",
        "            # Convert RGB values to binary\n",
        "            r, g, b = message_to_binary(pixel)\n",
        "\n",
        "            # Modify the least significant bit only if there is still data to store\n",
        "            if data_index < data_len:\n",
        "                # Red channel\n",
        "                pixel[0] = int(r[:-1] + binary_secret_msg[data_index], 2)\n",
        "                data_index += 1\n",
        "            if data_index < data_len:\n",
        "                # Green channel\n",
        "                pixel[1] = int(g[:-1] + binary_secret_msg[data_index], 2)\n",
        "                data_index += 1\n",
        "            if data_index < data_len:\n",
        "                # Blue channel\n",
        "                pixel[2] = int(b[:-1] + binary_secret_msg[data_index], 2)\n",
        "                data_index += 1\n",
        "            # If data is encoded, break out of the loop\n",
        "            if data_index >= data_len:\n",
        "                break\n",
        "\n",
        "    # Save the output image (use PNG for lossless compression)\n",
        "    cv2.imwrite(output_path, encoded_image)\n",
        "    print(f\"[+] Image encoded successfully and saved to {output_path}\")\n",
        "\n",
        "    # Force sync with Google Drive\n",
        "    !sync\n",
        "    time.sleep(2)  # Wait for sync to complete\n",
        "\n",
        "    return encoded_image\n",
        "\n",
        "def extract_message(image_path):\n",
        "    \"\"\"Extract a hidden message from an image\"\"\"\n",
        "    print(\"[+] Extracting message...\")\n",
        "\n",
        "    # Verify and read the image\n",
        "    image = verify_image(image_path)\n",
        "\n",
        "    binary_data = \"\"\n",
        "\n",
        "    # Iterate through each pixel in the image\n",
        "    for row in image:\n",
        "        for pixel in row:\n",
        "            r, g, b = message_to_binary(pixel)\n",
        "            binary_data += r[-1]  # LSB of Red channel\n",
        "            binary_data += g[-1]  # LSB of Green channel\n",
        "            binary_data += b[-1]  # LSB of Blue channel\n",
        "\n",
        "    # Split by 8-bits\n",
        "    all_bytes = [binary_data[i:i+8] for i in range(0, len(binary_data), 8)]\n",
        "\n",
        "    # Convert from bits to characters\n",
        "    decoded_message = \"\"\n",
        "    for byte in all_bytes:\n",
        "        decoded_message += chr(int(byte, 2))\n",
        "        # Check for delimiter\n",
        "        if decoded_message[-5:] == \"=====\":\n",
        "            break\n",
        "\n",
        "    return decoded_message[:-5]\n",
        "\n",
        "def compare_images(original_path, encoded_path):\n",
        "    \"\"\"Compare original and encoded images with proper error handling\"\"\"\n",
        "    try:\n",
        "        print(\"\\n[4] Comparing images...\")\n",
        "\n",
        "        # Verify both images exist\n",
        "        original = verify_image(original_path)\n",
        "        encoded = verify_image(encoded_path)\n",
        "\n",
        "        if original.shape == encoded.shape:\n",
        "            difference = cv2.absdiff(original, encoded)\n",
        "            difference[difference > 0] = 255  # Highlight differences\n",
        "\n",
        "            plt.figure(figsize=(12, 6))\n",
        "\n",
        "            plt.subplot(1, 2, 1)\n",
        "            plt.title(\"Pixel Differences\")\n",
        "            plt.imshow(cv2.cvtColor(difference, cv2.COLOR_BGR2RGB))\n",
        "            plt.axis('off')\n",
        "\n",
        "            plt.subplot(1, 2, 2)\n",
        "            plt.title(\"Difference Count\")\n",
        "            diff_count = np.count_nonzero(difference)\n",
        "            total_pixels = difference.size\n",
        "            plt.text(0.1, 0.5,\n",
        "                    f\"Different pixels: {diff_count}\\n({diff_count/total_pixels:.6%} of total)\",\n",
        "                    fontsize=12)\n",
        "            plt.axis('off')\n",
        "\n",
        "            plt.show()\n",
        "            return True\n",
        "        else:\n",
        "            print(\"[!] Images have different dimensions and cannot be compared\")\n",
        "            return False\n",
        "\n",
        "    except Exception as e:\n",
        "        print(f\"[!] Comparison error: {str(e)}\")\n",
        "        return False\n",
        "\n",
        "# Main Execution\n",
        "if __name__ == \"__main__\":\n",
        "    # Define paths\n",
        "    input_image_path = \"/content/drive/MyDrive/IBM/img.jpg\"  # Update with your image path\n",
        "    output_image_path = \"/content/drive/MyDrive/IBM/encoded_image.png\"\n",
        "\n",
        "\n",
        "    # Secret message to hide\n",
        "    secret_message = \"This is a confidential cybersecurity message hidden using LSB steganography!\"\n",
        "\n",
        "    try:\n",
        "        # Step 0: Verify input image exists\n",
        "        print(\"[0] Verifying input image...\")\n",
        "        verify_image(input_image_path)\n",
        "        print(\"[✓] Input image verified\")\n",
        "\n",
        "        # Step 1: Hide the message in the image\n",
        "        print(\"\\n[1] Hiding message in image...\")\n",
        "        encoded_image = hide_message(input_image_path, secret_message, output_image_path)\n",
        "\n",
        "        # Additional verification of output file\n",
        "        print(\"\\n[1.5] Verifying output image was created...\")\n",
        "        if not os.path.exists(output_image_path):\n",
        "            raise FileNotFoundError(\"Encoded image was not created successfully\")\n",
        "        print(\"[✓] Output image verified\")\n",
        "\n",
        "        # Step 2: Display the images\n",
        "        print(\"\\n[2] Displaying results...\")\n",
        "        plt.figure(figsize=(12, 6))\n",
        "\n",
        "        plt.subplot(1, 2, 1)\n",
        "        plt.title(\"Original Image\")\n",
        "        original_img = cv2.cvtColor(verify_image(input_image_path), cv2.COLOR_BGR2RGB)\n",
        "        plt.imshow(original_img)\n",
        "        plt.axis('off')\n",
        "\n",
        "        plt.subplot(1, 2, 2)\n",
        "        plt.title(\"Encoded Image\")\n",
        "        encoded_img = cv2.cvtColor(verify_image(output_image_path), cv2.COLOR_BGR2RGB)\n",
        "        plt.imshow(encoded_img)\n",
        "        plt.axis('off')\n",
        "\n",
        "        plt.show()\n",
        "\n",
        "        # Step 3: Extract the message\n",
        "        print(\"\\n[3] Extracting hidden message...\")\n",
        "        extracted_message = extract_message(output_image_path)\n",
        "        print(\"\\n[+] Extraction successful!\")\n",
        "        print(f\"[+] Original message: {secret_message}\")\n",
        "        print(f\"[+] Extracted message: {extracted_message}\")\n",
        "\n",
        "        # Step 4: Verify the extraction\n",
        "        if secret_message == extracted_message:\n",
        "            print(\"\\n[✓] Verification: Message extracted correctly!\")\n",
        "        else:\n",
        "            print(\"\\n[✗] Verification: Extracted message doesn't match original!\")\n",
        "\n",
        "        # Step 5: Compare images\n",
        "        compare_images(input_image_path, output_image_path)\n",
        "\n",
        "    except Exception as e:\n",
        "        print(f\"\\n[!] Error occurred: {str(e)}\")\n",
        "        print(\"Troubleshooting steps:\")\n",
        "        print(\"1. Check the exact path to your image\")\n",
        "        print(\"2. Verify the image exists in Google Drive\")\n",
        "        print(\"3. Try with a simpler image path (no spaces or special characters)\")\n",
        "        print(\"4. Check the image format (try converting to PNG)\")\n",
        "        print(\"\\nDebugging info:\")\n",
        "        print(f\"Input path exists: {os.path.exists(input_image_path)}\")\n",
        "        print(f\"Output path exists: {os.path.exists(output_image_path)}\")\n",
        "        if os.path.exists(input_image_path):\n",
        "            print(f\"Input image size: {os.path.getsize(input_image_path)} bytes\")"
      ],
      "metadata": {
        "colab": {
          "base_uri": "https://localhost:8080/",
          "height": 1000
        },
        "id": "zE99s2R94Csx",
        "outputId": "126e4acc-a277-4c7f-a814-af2a527bb857"
      },
      "execution_count": 40,
      "outputs": [
        {
          "output_type": "stream",
          "name": "stdout",
          "text": [
            "[0] Verifying input image...\n",
            "[✓] Input image verified\n",
            "\n",
            "[1] Hiding message in image...\n",
            "[*] Maximum bytes to encode: 90000\n",
            "[+] Image encoded successfully and saved to /content/drive/MyDrive/IBM/encoded_image.png\n",
            "\n",
            "[1.5] Verifying output image was created...\n",
            "[✓] Output image verified\n",
            "\n",
            "[2] Displaying results...\n"
          ]
        },
        {
          "output_type": "display_data",
          "data": {
            "text/plain": [
              "<Figure size 1200x600 with 2 Axes>"
            ],
            "image/png": "[encoded data removed]"
          },
          "metadata": {}
        },
        {
          "output_type": "stream",
          "name": "stdout",
          "text": [
            "\n",
            "[3] Extracting hidden message...\n",
            "[+] Extracting message...\n",
            "\n",
            "[+] Extraction successful!\n",
            "[+] Original message: This is a confidential cybersecurity message hidden using LSB steganography!\n",
            "[+] Extracted message: This is a confidential cybersecurity message hidden using LSB steganography!\n",
            "\n",
            "[✓] Verification: Message extracted correctly!\n",
            "\n",
            "[4] Comparing images...\n"
          ]
        },
        {
          "output_type": "display_data",
          "data": {
            "text/plain": [
              "<Figure size 1200x600 with 2 Axes>"
            ],
            "image/png": "[encoded data removed]"
          },
          "metadata": {}
        }
      ]
    },
    {
      "cell_type": "code",
      "source": [],
      "metadata": {
        "id": "6AjBlsD_4Cph"
      },
      "execution_count": 40,
      "outputs": []
    },
    {
      "cell_type": "code",
      "source": [],
      "metadata": {
        "id": "zOISS_Q94ClX"
      },
      "execution_count": 40,
      "outputs": []
    },
    {
      "cell_type": "code",
      "source": [],
      "metadata": {
        "id": "g_X_736d4Ccw"
      },
      "execution_count": 40,
      "outputs": []
    }
  ]
}